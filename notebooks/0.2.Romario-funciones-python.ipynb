{
 "cells": [
  {
   "cell_type": "markdown",
   "metadata": {},
   "source": [
    "Funciones en Python"
   ]
  },
  {
   "cell_type": "code",
   "execution_count": 1,
   "metadata": {},
   "outputs": [],
   "source": [
    "# funcion f(x,y,z) = x + y + z\n",
    "\n",
    "def f (x,y,z):\n",
    "    resultado = x + y + z\n",
    "    return resultado\n"
   ]
  },
  {
   "cell_type": "code",
   "execution_count": 2,
   "metadata": {},
   "outputs": [
    {
     "name": "stdout",
     "output_type": "stream",
     "text": [
      "13\n"
     ]
    }
   ],
   "source": [
    "rta = f (x = 5, y = 4, z = 4)\n",
    "print(rta)"
   ]
  },
  {
   "cell_type": "markdown",
   "metadata": {},
   "source": [
    "# funciones\n",
    "\n",
    "quiro una funcion que me calcule :\n",
    "1. la suma de todos los numeros de una lista\n",
    "2. minimo valor de la lista\n",
    "3. maximo valor de la lista\n",
    "4. la media y la desviacion estandar"
   ]
  },
  {
   "cell_type": "code",
   "execution_count": null,
   "metadata": {},
   "outputs": [],
   "source": [
    "\n",
    "def calcular_valores(lista_numeros):\n",
    "    \n",
    "    #min(lista_numeros)\n",
    "    #max(lista_numeros)\n",
    "    \n",
    "    #suma = calcular_suma(lista_numeros)\n",
    "    #min_val = calcular_suma(lista_numeros)\n",
    "    #suma = calcular_suma(lista_numeros)\n",
    "\n",
    "    return suma, min_val, max_val, media, desv_std\n"
   ]
  },
  {
   "cell_type": "code",
   "execution_count": 25,
   "metadata": {},
   "outputs": [],
   "source": [
    "# Calcular min y max\n",
    "def calcular_min_max(lista_numeros, verbose=True):\n",
    "    min_value = min(lista_numeros)\n",
    "    max_value = max(lista_numeros)\n",
    "\n",
    "    #print(\"valor minimo: \", min_value)\n",
    "    #print(\"valor maximo: \", max_value)\n",
    "\n",
    "    if verbose == True:\n",
    "        print(\"valor minimo: \", min_value)\n",
    "        print(\"valor maximo: \", max_value)\n",
    "    else:\n",
    "        pass\n",
    "\n",
    "    return min_value, max_value"
   ]
  },
  {
   "cell_type": "code",
   "execution_count": 27,
   "metadata": {},
   "outputs": [],
   "source": [
    "listaValores = [2,5,4]\n",
    "\n",
    "test = calcular_min_max(listaValores, verbose=False)\n",
    "#test = calcular_min_max(listaValores, verbose=True)"
   ]
  },
  {
   "cell_type": "code",
   "execution_count": 30,
   "metadata": {},
   "outputs": [],
   "source": [
    "# Calcular media y desviacion Estandar \n",
    "import numpy as np\n",
    "\n",
    "def calcular_valores_centrales(lista_numeros, verbose=True):\n",
    "    \"\"\"Calcula la media y desviacion estandar de una lista de numeros\n",
    "\n",
    "    Args:\n",
    "        lista_numeros (list): lista con valores numericos\n",
    "        verbose (bool, optional): decidir si imprime o no mensajes en pantalla. Defaults to True.\n",
    "\n",
    "    Returns:\n",
    "        tupla: (media, dev_Std)\n",
    "    \"\"\"\n",
    "    media = np.mean(lista_numeros)\n",
    "    dev_std = np.std(lista_numeros)\n",
    "\n",
    "    if verbose == True:\n",
    "        print(\"valor media: \", media)\n",
    "        print(\"valor desviacion estandar: \", dev_std)\n",
    "    else:\n",
    "        pass\n",
    "\n",
    "    return media, dev_std"
   ]
  },
  {
   "cell_type": "code",
   "execution_count": 32,
   "metadata": {},
   "outputs": [
    {
     "name": "stdout",
     "output_type": "stream",
     "text": [
      "valor media:  3.6666666666666665\n",
      "valor desviacion estandar:  1.247219128924647\n"
     ]
    }
   ],
   "source": [
    "listaValores = [2,5,4]\n",
    "\n",
    "test = calcular_valores_centrales(listaValores, verbose=True)"
   ]
  },
  {
   "cell_type": "code",
   "execution_count": 33,
   "metadata": {},
   "outputs": [],
   "source": [
    "def calcular_suma(lista_numeros, verbose=True):\n",
    "\n",
    "    suma = np.sum(lista_numeros)\n",
    "\n",
    "    return suma"
   ]
  },
  {
   "cell_type": "code",
   "execution_count": 35,
   "metadata": {},
   "outputs": [
    {
     "name": "stdout",
     "output_type": "stream",
     "text": [
      "11\n"
     ]
    }
   ],
   "source": [
    "listaValores = [2,5,4]\n",
    "\n",
    "test = calcular_suma(listaValores, verbose=True)\n",
    "print(test)"
   ]
  }
 ],
 "metadata": {
  "kernelspec": {
   "display_name": "Python 3.7.8 64-bit",
   "language": "python",
   "name": "python3"
  },
  "language_info": {
   "codemirror_mode": {
    "name": "ipython",
    "version": 3
   },
   "file_extension": ".py",
   "mimetype": "text/x-python",
   "name": "python",
   "nbconvert_exporter": "python",
   "pygments_lexer": "ipython3",
   "version": "3.7.8"
  },
  "orig_nbformat": 4,
  "vscode": {
   "interpreter": {
    "hash": "2f6defbfc3c15cccc989cbb68d9618b4eb140ad0fb44c97aa37ace8d8a6d2c2b"
   }
  }
 },
 "nbformat": 4,
 "nbformat_minor": 2
}
