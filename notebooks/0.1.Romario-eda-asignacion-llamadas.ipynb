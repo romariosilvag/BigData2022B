{
 "cells": [
  {
   "cell_type": "code",
   "execution_count": 2,
   "metadata": {},
   "outputs": [],
   "source": [
    "# importar librerias de manipulacion de datos\n",
    "import numpy as np\n",
    "import pandas as pd\n",
    "# importar librerias del sistema\n",
    "import os\n",
    "from pathlib import Path\n",
    "# libreria para fechas\n",
    "from dateutil.parser import parse\n"
   ]
  },
  {
   "cell_type": "code",
   "execution_count": 3,
   "metadata": {},
   "outputs": [
    {
     "data": {
      "text/plain": [
       "WindowsPath('C:/Users/romario.silva/Documents/ESEIT/Herramientas y Lenguajes para Big Data/BigData2022B')"
      ]
     },
     "execution_count": 3,
     "metadata": {},
     "output_type": "execute_result"
    }
   ],
   "source": [
    "# Ruta del proyecto\n",
    "root_dir = Path(\".\").resolve().parent\n",
    "root_dir    "
   ]
  },
  {
   "cell_type": "code",
   "execution_count": 5,
   "metadata": {},
   "outputs": [
    {
     "name": "stdout",
     "output_type": "stream",
     "text": [
      "C:\\Users\\romario.silva\\Documents\\ESEIT\\Herramientas y Lenguajes para Big Data\\BigData2022B\\data\\raw\\llamadas123_julio_2022.csv\n"
     ]
    }
   ],
   "source": [
    "# ruta del proyecto\n",
    "#filename = input(\"Ingrese el nombre de archivo: \")\n",
    "filename = \"llamadas123_julio_2022.csv\"\n",
    "data_dir = \"raw\"\n",
    "file_path = os.path.join(root_dir,\"data\",data_dir, filename)\n",
    "print(file_path)\n",
    "\n",
    "# C:\\Users\\romario.silva\\Documents\\ESEIT\\Herramientas y Lenguajes para Big Data\\BigData2022B\\data\\raw"
   ]
  },
  {
   "cell_type": "code",
   "execution_count": 7,
   "metadata": {},
   "outputs": [],
   "source": [
    "# leer archivo\n",
    "#data = pd.read_csv(file_path, encoding=\"latin-1\", sep=\";\")\n",
    "data = pd.read_csv(file_path, encoding=\"latin-1\", sep=\";\")\n",
    "# copia de df original\n",
    "new_data = data.copy()\n"
   ]
  },
  {
   "cell_type": "code",
   "execution_count": 8,
   "metadata": {},
   "outputs": [
    {
     "data": {
      "text/html": [
       "<div>\n",
       "<style scoped>\n",
       "    .dataframe tbody tr th:only-of-type {\n",
       "        vertical-align: middle;\n",
       "    }\n",
       "\n",
       "    .dataframe tbody tr th {\n",
       "        vertical-align: top;\n",
       "    }\n",
       "\n",
       "    .dataframe thead th {\n",
       "        text-align: right;\n",
       "    }\n",
       "</style>\n",
       "<table border=\"1\" class=\"dataframe\">\n",
       "  <thead>\n",
       "    <tr style=\"text-align: right;\">\n",
       "      <th></th>\n",
       "      <th>NUMERO_INCIDENTE</th>\n",
       "      <th>FECHA_INICIO_DESPLAZAMIENTO_MOVIL</th>\n",
       "      <th>CODIGO_LOCALIDAD</th>\n",
       "      <th>LOCALIDAD</th>\n",
       "      <th>EDAD</th>\n",
       "      <th>UNIDAD</th>\n",
       "      <th>GENERO</th>\n",
       "      <th>RED</th>\n",
       "      <th>TIPO_INCIDENTE</th>\n",
       "      <th>PRIORIDAD</th>\n",
       "      <th>RECEPCION</th>\n",
       "    </tr>\n",
       "  </thead>\n",
       "  <tbody>\n",
       "    <tr>\n",
       "      <th>0</th>\n",
       "      <td>CRU-00278353-22</td>\n",
       "      <td>2022-07-01 00:08:59</td>\n",
       "      <td>11</td>\n",
       "      <td>Suba</td>\n",
       "      <td>88</td>\n",
       "      <td>A¤os</td>\n",
       "      <td>FEMENINO</td>\n",
       "      <td>Norte</td>\n",
       "      <td>Accidente Cerebro Vascular</td>\n",
       "      <td>ALTA</td>\n",
       "      <td>2022-07-01 03:40:13</td>\n",
       "    </tr>\n",
       "    <tr>\n",
       "      <th>1</th>\n",
       "      <td>CRU-00278360-22</td>\n",
       "      <td>2022-07-01 00:14:58</td>\n",
       "      <td>11</td>\n",
       "      <td>Suba</td>\n",
       "      <td>16</td>\n",
       "      <td>A¤os</td>\n",
       "      <td>MASCULINO</td>\n",
       "      <td>Norte</td>\n",
       "      <td>Herido</td>\n",
       "      <td>ALTA</td>\n",
       "      <td>2022-07-01 03:38:13</td>\n",
       "    </tr>\n",
       "    <tr>\n",
       "      <th>2</th>\n",
       "      <td>CRU-00278365-22</td>\n",
       "      <td>2022-07-01 00:21:59</td>\n",
       "      <td>18</td>\n",
       "      <td>Rafael Uribe Uribe</td>\n",
       "      <td>52</td>\n",
       "      <td>A¤os</td>\n",
       "      <td>FEMENINO</td>\n",
       "      <td>Centro Oriente</td>\n",
       "      <td>Evento Respiratorio</td>\n",
       "      <td>CRITICA</td>\n",
       "      <td>2022-07-01 04:08:24</td>\n",
       "    </tr>\n",
       "    <tr>\n",
       "      <th>3</th>\n",
       "      <td>CRU-00278370-22</td>\n",
       "      <td>2022-07-01 00:38:38</td>\n",
       "      <td>19</td>\n",
       "      <td>Ciudad Bol¡var</td>\n",
       "      <td>SIN_DATO</td>\n",
       "      <td>SIN_DATO</td>\n",
       "      <td>SIN_DATO</td>\n",
       "      <td>Privada</td>\n",
       "      <td>Herido</td>\n",
       "      <td>ALTA</td>\n",
       "      <td>0000-00-00 00:00:00</td>\n",
       "    </tr>\n",
       "    <tr>\n",
       "      <th>4</th>\n",
       "      <td>CRU-00278372-22</td>\n",
       "      <td>2022-07-01 00:53:32</td>\n",
       "      <td>1</td>\n",
       "      <td>Usaqun</td>\n",
       "      <td>33</td>\n",
       "      <td>A¤os</td>\n",
       "      <td>MASCULINO</td>\n",
       "      <td>Norte</td>\n",
       "      <td>Intento de Suicidio</td>\n",
       "      <td>ALTA</td>\n",
       "      <td>2022-07-01 03:25:29</td>\n",
       "    </tr>\n",
       "    <tr>\n",
       "      <th>...</th>\n",
       "      <td>...</td>\n",
       "      <td>...</td>\n",
       "      <td>...</td>\n",
       "      <td>...</td>\n",
       "      <td>...</td>\n",
       "      <td>...</td>\n",
       "      <td>...</td>\n",
       "      <td>...</td>\n",
       "      <td>...</td>\n",
       "      <td>...</td>\n",
       "      <td>...</td>\n",
       "    </tr>\n",
       "    <tr>\n",
       "      <th>95</th>\n",
       "      <td>CRU-00278619-22</td>\n",
       "      <td>2022-07-01 08:25:28</td>\n",
       "      <td>7</td>\n",
       "      <td>Bosa</td>\n",
       "      <td>26</td>\n",
       "      <td>A¤os</td>\n",
       "      <td>MASCULINO</td>\n",
       "      <td>Sur Occidente</td>\n",
       "      <td>Trastorno Mental</td>\n",
       "      <td>MEDIA</td>\n",
       "      <td>2022-07-01 12:52:33</td>\n",
       "    </tr>\n",
       "    <tr>\n",
       "      <th>96</th>\n",
       "      <td>CRU-00278642-22</td>\n",
       "      <td>2022-07-01 08:25:30</td>\n",
       "      <td>11</td>\n",
       "      <td>Suba</td>\n",
       "      <td>SIN_DATO</td>\n",
       "      <td>SIN_DATO</td>\n",
       "      <td>SIN_DATO</td>\n",
       "      <td>Norte</td>\n",
       "      <td>Inconsciente / Paro cardiorespiratorio</td>\n",
       "      <td>CRITICA</td>\n",
       "      <td>0000-00-00 00:00:00</td>\n",
       "    </tr>\n",
       "    <tr>\n",
       "      <th>97</th>\n",
       "      <td>CRU-00278642-22</td>\n",
       "      <td>2022-07-01 08:25:30</td>\n",
       "      <td>11</td>\n",
       "      <td>Suba</td>\n",
       "      <td>33</td>\n",
       "      <td>A¤os</td>\n",
       "      <td>FEMENINO</td>\n",
       "      <td>Norte</td>\n",
       "      <td>Inconsciente / Paro cardiorespiratorio</td>\n",
       "      <td>CRITICA</td>\n",
       "      <td>0000-00-00 00:00:00</td>\n",
       "    </tr>\n",
       "    <tr>\n",
       "      <th>98</th>\n",
       "      <td>CRU-00278637-22</td>\n",
       "      <td>2022-07-01 08:26:43</td>\n",
       "      <td>14</td>\n",
       "      <td>Los M rtires</td>\n",
       "      <td>78</td>\n",
       "      <td>A¤os</td>\n",
       "      <td>MASCULINO</td>\n",
       "      <td>Sur Occidente</td>\n",
       "      <td>Inconsciente / Paro cardiorespiratorio</td>\n",
       "      <td>CRITICA</td>\n",
       "      <td>0000-00-00 00:00:00</td>\n",
       "    </tr>\n",
       "    <tr>\n",
       "      <th>99</th>\n",
       "      <td>CRU-00278632-22</td>\n",
       "      <td>2022-07-01 08:28:11</td>\n",
       "      <td>16</td>\n",
       "      <td>Puente Aranda</td>\n",
       "      <td>SIN_DATO</td>\n",
       "      <td>SIN_DATO</td>\n",
       "      <td>SIN_DATO</td>\n",
       "      <td>Norte</td>\n",
       "      <td>Trastorno Mental</td>\n",
       "      <td>ALTA</td>\n",
       "      <td>0000-00-00 00:00:00</td>\n",
       "    </tr>\n",
       "  </tbody>\n",
       "</table>\n",
       "<p>100 rows × 11 columns</p>\n",
       "</div>"
      ],
      "text/plain": [
       "   NUMERO_INCIDENTE FECHA_INICIO_DESPLAZAMIENTO_MOVIL  CODIGO_LOCALIDAD  \\\n",
       "0   CRU-00278353-22               2022-07-01 00:08:59                11   \n",
       "1   CRU-00278360-22               2022-07-01 00:14:58                11   \n",
       "2   CRU-00278365-22               2022-07-01 00:21:59                18   \n",
       "3   CRU-00278370-22               2022-07-01 00:38:38                19   \n",
       "4   CRU-00278372-22               2022-07-01 00:53:32                 1   \n",
       "..              ...                               ...               ...   \n",
       "95  CRU-00278619-22               2022-07-01 08:25:28                 7   \n",
       "96  CRU-00278642-22               2022-07-01 08:25:30                11   \n",
       "97  CRU-00278642-22               2022-07-01 08:25:30                11   \n",
       "98  CRU-00278637-22               2022-07-01 08:26:43                14   \n",
       "99  CRU-00278632-22               2022-07-01 08:28:11                16   \n",
       "\n",
       "             LOCALIDAD      EDAD    UNIDAD     GENERO             RED  \\\n",
       "0                 Suba        88      A¤os   FEMENINO           Norte   \n",
       "1                 Suba        16      A¤os  MASCULINO           Norte   \n",
       "2   Rafael Uribe Uribe        52      A¤os   FEMENINO  Centro Oriente   \n",
       "3       Ciudad Bol¡var  SIN_DATO  SIN_DATO   SIN_DATO         Privada   \n",
       "4              Usaqun        33      A¤os  MASCULINO           Norte   \n",
       "..                 ...       ...       ...        ...             ...   \n",
       "95                Bosa        26      A¤os  MASCULINO   Sur Occidente   \n",
       "96                Suba  SIN_DATO  SIN_DATO   SIN_DATO           Norte   \n",
       "97                Suba        33      A¤os   FEMENINO           Norte   \n",
       "98        Los M rtires        78      A¤os  MASCULINO   Sur Occidente   \n",
       "99       Puente Aranda  SIN_DATO  SIN_DATO   SIN_DATO           Norte   \n",
       "\n",
       "                            TIPO_INCIDENTE PRIORIDAD            RECEPCION  \n",
       "0               Accidente Cerebro Vascular      ALTA  2022-07-01 03:40:13  \n",
       "1                                   Herido      ALTA  2022-07-01 03:38:13  \n",
       "2                      Evento Respiratorio   CRITICA  2022-07-01 04:08:24  \n",
       "3                                   Herido      ALTA  0000-00-00 00:00:00  \n",
       "4                      Intento de Suicidio      ALTA  2022-07-01 03:25:29  \n",
       "..                                     ...       ...                  ...  \n",
       "95                        Trastorno Mental     MEDIA  2022-07-01 12:52:33  \n",
       "96  Inconsciente / Paro cardiorespiratorio   CRITICA  0000-00-00 00:00:00  \n",
       "97  Inconsciente / Paro cardiorespiratorio   CRITICA  0000-00-00 00:00:00  \n",
       "98  Inconsciente / Paro cardiorespiratorio   CRITICA  0000-00-00 00:00:00  \n",
       "99                        Trastorno Mental      ALTA  0000-00-00 00:00:00  \n",
       "\n",
       "[100 rows x 11 columns]"
      ]
     },
     "execution_count": 8,
     "metadata": {},
     "output_type": "execute_result"
    }
   ],
   "source": [
    "# mostrar primeras filas\n",
    "new_data.head(100)"
   ]
  },
  {
   "cell_type": "code",
   "execution_count": 32,
   "metadata": {},
   "outputs": [
    {
     "data": {
      "text/plain": [
       "(13055, 11)"
      ]
     },
     "execution_count": 32,
     "metadata": {},
     "output_type": "execute_result"
    }
   ],
   "source": [
    "# ver df\n",
    "new_data.info()"
   ]
  },
  {
   "cell_type": "code",
   "execution_count": 19,
   "metadata": {},
   "outputs": [
    {
     "data": {
      "text/plain": [
       "SIN_DATO    6203\n",
       "23           151\n",
       "22           140\n",
       "30           135\n",
       "27           134\n",
       "            ... \n",
       "7             17\n",
       "98            16\n",
       "9             15\n",
       "8             14\n",
       "97            12\n",
       "Name: EDAD, Length: 100, dtype: int64"
      ]
     },
     "execution_count": 19,
     "metadata": {},
     "output_type": "execute_result"
    }
   ],
   "source": [
    "new_data[\"EDAD\"].value_counts(dropna=False)"
   ]
  },
  {
   "cell_type": "code",
   "execution_count": 30,
   "metadata": {},
   "outputs": [
    {
     "data": {
      "text/plain": [
       "0        Accidente Cerebro Vascular\n",
       "1                            Herido\n",
       "2               Evento Respiratorio\n",
       "3                            Herido\n",
       "4               Intento de Suicidio\n",
       "                    ...            \n",
       "13050         Acompañamiento Evento\n",
       "13051         Acompañamiento Evento\n",
       "13052         Acompañamiento Evento\n",
       "13053         Acompañamiento Evento\n",
       "13054    Accidente Cerebro Vascular\n",
       "Name: TIPO_INCIDENTE, Length: 13055, dtype: object"
      ]
     },
     "execution_count": 30,
     "metadata": {},
     "output_type": "execute_result"
    }
   ],
   "source": [
    "# valores por columna\n",
    "new_data[\"TIPO_INCIDENTE\"]"
   ]
  },
  {
   "cell_type": "code",
   "execution_count": 430,
   "metadata": {},
   "outputs": [
    {
     "name": "stdout",
     "output_type": "stream",
     "text": [
      "filas y columnas (13055, 11)\n",
      "filas y columnas sin duplicados (13026, 11)\n"
     ]
    }
   ],
   "source": [
    "# Eliminar los registros duplicados, dejando solo el primer registro\n",
    "print(\"filas y columnas\", new_data.shape)\n",
    "new_data = new_data.drop_duplicates()\n",
    "print(\"filas y columnas sin duplicados\", new_data.shape) \n",
    "# resetear indices de la tabla\n",
    "new_data = new_data.reset_index(drop=True) "
   ]
  },
  {
   "cell_type": "code",
   "execution_count": 22,
   "metadata": {},
   "outputs": [],
   "source": [
    "def str_to_datetime(value_str):\n",
    "    try:\n",
    "        var_datetime2 = parse(value_str, dayfirst=False)\n",
    "        var_datetime = pd.to_datetime(var_datetime2)\n",
    "    except Exception as e:\n",
    "        #print(value_str, e)\n",
    "        var_datetime = np.nan\n",
    "    return var_datetime\n",
    "        "
   ]
  },
  {
   "cell_type": "code",
   "execution_count": 23,
   "metadata": {},
   "outputs": [
    {
     "data": {
      "text/plain": [
       "0       2022-07-01 00:08:59\n",
       "1       2022-07-01 00:14:58\n",
       "2       2022-07-01 00:21:59\n",
       "3       2022-07-01 00:38:38\n",
       "4       2022-07-01 00:53:32\n",
       "                ...        \n",
       "13050   2022-08-08 05:31:48\n",
       "13051   2022-08-08 10:38:32\n",
       "13052   2022-08-08 11:23:01\n",
       "13053   2022-08-08 11:23:01\n",
       "13054                   NaT\n",
       "Name: FECHA_INICIO_DESPLAZAMIENTO_MOVIL, Length: 13055, dtype: datetime64[ns]"
      ]
     },
     "execution_count": 23,
     "metadata": {},
     "output_type": "execute_result"
    }
   ],
   "source": [
    "# iterar por cada registro para convertir a datetime Campo FECHA_INICIO_DESPLAZAMIENTO_MOVIL\n",
    "\n",
    "fecha_ini_despl_movil = new_data[\"FECHA_INICIO_DESPLAZAMIENTO_MOVIL\"]\n",
    "list_fecha_ini_despl_movil = list()\n",
    "\n",
    "for i in range(0,len(fecha_ini_despl_movil)):\n",
    "    result_ini_despl_movil = str_to_datetime(fecha_ini_despl_movil[i])\n",
    "    list_fecha_ini_despl_movil.append(result_ini_despl_movil)\n",
    "    \n",
    "new_data[\"FECHA_INICIO_DESPLAZAMIENTO_MOVIL\"] = list_fecha_ini_despl_movil\n",
    "new_data[\"FECHA_INICIO_DESPLAZAMIENTO_MOVIL\"]\n"
   ]
  },
  {
   "cell_type": "code",
   "execution_count": 434,
   "metadata": {},
   "outputs": [
    {
     "data": {
      "text/plain": [
       "0       2022-07-01 03:40:13\n",
       "1       2022-07-01 03:38:13\n",
       "2       2022-07-01 04:08:24\n",
       "3                       NaT\n",
       "4       2022-07-01 03:25:29\n",
       "                ...        \n",
       "13021   2022-08-08 06:48:00\n",
       "13022                   NaT\n",
       "13023   2022-09-08 13:13:00\n",
       "13024                   NaT\n",
       "13025                   NaT\n",
       "Name: RECEPCION, Length: 13026, dtype: datetime64[ns]"
      ]
     },
     "execution_count": 434,
     "metadata": {},
     "output_type": "execute_result"
    }
   ],
   "source": [
    "# iterar por cada registro para convertir a datetime Campo RECEPCION\n",
    "\n",
    "fecha_recepcion = new_data[\"RECEPCION\"]\n",
    "list_fecha_recepcion = list()\n",
    "\n",
    "for i in range(0,len(fecha_recepcion)):\n",
    "    result_fecha_recepcion = str_to_datetime(fecha_recepcion[i])\n",
    "    list_fecha_recepcion.append(result_fecha_recepcion)\n",
    "    \n",
    "\n",
    "new_data[\"RECEPCION\"] = list_fecha_recepcion\n",
    "new_data[\"RECEPCION\"]"
   ]
  },
  {
   "cell_type": "code",
   "execution_count": 25,
   "metadata": {},
   "outputs": [
    {
     "data": {
      "text/plain": [
       "0        88\n",
       "1        16\n",
       "2        52\n",
       "3         0\n",
       "4        33\n",
       "         ..\n",
       "13050    18\n",
       "13051     0\n",
       "13052    11\n",
       "13053    19\n",
       "13054     0\n",
       "Name: EDAD, Length: 13055, dtype: int64"
      ]
     },
     "execution_count": 25,
     "metadata": {},
     "output_type": "execute_result"
    }
   ],
   "source": [
    "\n",
    "# remplazar valor SIN_DATA a 0\n",
    "new_data[\"EDAD\"]  = new_data[\"EDAD\"].replace({\"SIN_DATO\": 0})\n",
    "# convertir columna a int64\n",
    "new_data = new_data.astype({\"EDAD\":'int64'},errors = 'ignore') \n",
    "# ver columna\n",
    "new_data[\"EDAD\"] "
   ]
  },
  {
   "cell_type": "code",
   "execution_count": 27,
   "metadata": {},
   "outputs": [
    {
     "data": {
      "text/plain": [
       "A¤os     6794\n",
       "NaN      6211\n",
       "Meses      39\n",
       "Horas       6\n",
       "Dias        5\n",
       "Name: UNIDAD, dtype: int64"
      ]
     },
     "execution_count": 27,
     "metadata": {},
     "output_type": "execute_result"
    }
   ],
   "source": [
    "# remplazar valor SIN_DATA a Null\n",
    "new_data[\"GENERO\"]  = new_data[\"GENERO\"].replace({\"SIN_DATO\": np.nan}) \n",
    "new_data[\"UNIDAD\"]  = new_data[\"UNIDAD\"].replace({\"SIN_DATO\": np.nan}) \n",
    "\n",
    "\n",
    "new_data[\"UNIDAD\"].value_counts(dropna=False)"
   ]
  },
  {
   "cell_type": "code",
   "execution_count": 28,
   "metadata": {},
   "outputs": [
    {
     "data": {
      "text/plain": [
       "Kennedy               1741\n",
       "Suba                  1324\n",
       "Engativá              1309\n",
       "Bosa                  1066\n",
       "Ciudad Bolívar        1009\n",
       "Puente Aranda          743\n",
       "Fontibón               670\n",
       "Usaquén                668\n",
       "Rafael Uribe Uribe     605\n",
       "San Cristóbal          597\n",
       "Usme                   597\n",
       "Chapinero              513\n",
       "Tunjuelito             393\n",
       "Barrios Unidos         391\n",
       "Los Mártires           381\n",
       "Teusaquillo            361\n",
       "Santa Fe               357\n",
       "Antonio Nariño         244\n",
       "La Candelaria           85\n",
       "Sumapaz                  1\n",
       "Name: LOCALIDAD, dtype: int64"
      ]
     },
     "execution_count": 28,
     "metadata": {},
     "output_type": "execute_result"
    }
   ],
   "source": [
    "# Remplazar Caracter especial por palabra\n",
    "new_data[\"UNIDAD\"]  = new_data[\"UNIDAD\"].replace({\"A¤os\": \"Años\"}) \n",
    "new_data[\"TIPO_INCIDENTE\"]  = new_data[\"TIPO_INCIDENTE\"].replace({\"Convulsi¢n\": \"Convulsión\",\"Dolor Tor cico\": \"Dolor Torácico\",\"S¡ntomas Gastrointestinales\": \"Sintomas Gastrointestinales\",\"Ca¡da de Altura\": \"Caida de Altura\",\"Patolog¡a Ginecobsttrica\": \"Patologia Gineco Obstétrica\",\"Intoxicaci¢n\": \"Intoxicación\",\"Acompa¤amiento Evento\": \"Acompañamiento Evento\",\"Electrocuci¢n / rescate\": \"Electrocución / rescate\"}) \n",
    "new_data[\"LOCALIDAD\"]  = new_data[\"LOCALIDAD\"].replace({\"Engativ \": \"Engativá\",\"Ciudad Bol¡var\": \"Ciudad Bolívar\",\"Fontib¢n\": \"Fontibón\",\"Usaqun\": \"Usaquén\",\"San Crist¢bal\": \"San Cristóbal\",\"Los M rtires\": \"Los Mártires\",\"Antonio Nari¤o\": \"Antonio Nariño\"}) \n",
    "new_data[\"LOCALIDAD\"].value_counts()"
   ]
  }
 ],
 "metadata": {
  "kernelspec": {
   "display_name": "Python 3.7.8 64-bit",
   "language": "python",
   "name": "python3"
  },
  "language_info": {
   "codemirror_mode": {
    "name": "ipython",
    "version": 3
   },
   "file_extension": ".py",
   "mimetype": "text/x-python",
   "name": "python",
   "nbconvert_exporter": "python",
   "pygments_lexer": "ipython3",
   "version": "3.7.8"
  },
  "orig_nbformat": 4,
  "vscode": {
   "interpreter": {
    "hash": "2f6defbfc3c15cccc989cbb68d9618b4eb140ad0fb44c97aa37ace8d8a6d2c2b"
   }
  }
 },
 "nbformat": 4,
 "nbformat_minor": 2
}
